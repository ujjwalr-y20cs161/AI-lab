{
 "cells": [
  {
   "cell_type": "markdown",
   "id": "dac32fca",
   "metadata": {},
   "source": [
    "<h1>Greedy Best First Search</h1>"
   ]
  },
  {
   "cell_type": "code",
   "execution_count": 1,
   "id": "05596a72",
   "metadata": {},
   "outputs": [
    {
     "name": "stdout",
     "output_type": "stream",
     "text": [
      "Greedy BFS\n"
     ]
    }
   ],
   "source": [
    "print(\"Greedy BFS\")"
   ]
  },
  {
   "cell_type": "code",
   "execution_count": 34,
   "id": "35c20c5c",
   "metadata": {},
   "outputs": [],
   "source": [
    "class Node:\n",
    "    def __init__(self,node,parent,cost):\n",
    "        self.node = node\n",
    "        self.parent = parent\n",
    "        self.cost = cost\n",
    "        \n",
    "    def printPath(self):\n",
    "        path = []\n",
    "        while(self.parent or self.parent != 0):\n",
    "            path.append(self.node)\n",
    "            self.node = self.parent\n",
    "        path = path[:-1]\n",
    "        print(path)\n",
    "        return path"
   ]
  },
  {
   "cell_type": "code",
   "execution_count": 29,
   "id": "1a4c95f7",
   "metadata": {},
   "outputs": [],
   "source": [
    "# defines a path between a given node and end node, with greedy approach\n",
    "# may not always produce the optimal solution\n",
    "\n",
    "def GreedyBFS(goalNode,startNode):\n",
    "#     Visited set to mark the nodes that's already been visited\n",
    "\n",
    "    visited = set()\n",
    "    \n",
    "#     A queue to maintain the nodes that are to be visited\n",
    "    queue = []\n",
    "    \n",
    "# init queue with the startNode and with cost zero\n",
    "    queue.append(Node(startNode,0,0))\n",
    "    \n",
    "#     until queue is empty:\n",
    "    while queue:\n",
    "        \n",
    "        \n",
    "#         pop and unpack the nodes in the queue:\n",
    "        currNode = queue.pop(0)\n",
    "        print(currNode.node,currNode.cost)\n",
    "    \n",
    "#     if visited node is the goal node then return the visited which will give the path\n",
    "        if currNode.node == goalNode:\n",
    "            return currNode.printPath()\n",
    "        \n",
    "#         if not goalnode then add the node to visited path\n",
    "        visited.add(currNode)\n",
    "    \n",
    "#         after marking the current node as visited now explore the child node of the given node\n",
    "        for child in graph[currNode.node]:\n",
    "        \n",
    "#         if child is not visited then explore and \n",
    "            if child not in visited:\n",
    "#                 add to the queue to visit next along with the cost that is calculate using the heuristic function\n",
    "#                           we substitute heuristic with 1 as for convience\n",
    "                queue.append(Node(child,currNode.node,currNode.cost+1))"
   ]
  },
  {
   "cell_type": "code",
   "execution_count": 30,
   "id": "370c77fe",
   "metadata": {},
   "outputs": [],
   "source": [
    "# can be a adjucency list [implemented in graph or dictionary]\n",
    "graph = [[] for x in range(10)]\n",
    "\n",
    "def addEdge(a,b):\n",
    "    graph[a].append(b)\n"
   ]
  },
  {
   "cell_type": "code",
   "execution_count": 32,
   "id": "5adf7d59",
   "metadata": {},
   "outputs": [],
   "source": [
    "addEdge(1,2)\n",
    "addEdge(1,3)\n",
    "addEdge(2,3)\n",
    "addEdge(2,4)\n",
    "addEdge(3,4)\n",
    "addEdge(3,5)\n",
    "addEdge(4,5)\n",
    "addEdge(4,7)\n",
    "addEdge(2,6)"
   ]
  },
  {
   "cell_type": "code",
   "execution_count": 35,
   "id": "78cd71cf",
   "metadata": {},
   "outputs": [
    {
     "name": "stdout",
     "output_type": "stream",
     "text": [
      "[[], [2, 3], [3, 4, 6], [4, 5], [5, 7], [], [], [], [], []]\n",
      "4 0\n",
      "5 1\n",
      "7 1\n"
     ]
    },
    {
     "ename": "KeyboardInterrupt",
     "evalue": "",
     "output_type": "error",
     "traceback": [
      "\u001b[1;31m---------------------------------------------------------------------------\u001b[0m",
      "\u001b[1;31mKeyboardInterrupt\u001b[0m                         Traceback (most recent call last)",
      "\u001b[1;32m~\\AppData\\Local\\Temp/ipykernel_13128/1983544654.py\u001b[0m in \u001b[0;36m<module>\u001b[1;34m\u001b[0m\n\u001b[0;32m      1\u001b[0m \u001b[0mprint\u001b[0m\u001b[1;33m(\u001b[0m\u001b[0mgraph\u001b[0m\u001b[1;33m)\u001b[0m\u001b[1;33m\u001b[0m\u001b[1;33m\u001b[0m\u001b[0m\n\u001b[1;32m----> 2\u001b[1;33m \u001b[0mprint\u001b[0m\u001b[1;33m(\u001b[0m\u001b[0mGreedyBFS\u001b[0m\u001b[1;33m(\u001b[0m\u001b[1;36m7\u001b[0m\u001b[1;33m,\u001b[0m\u001b[1;36m4\u001b[0m\u001b[1;33m)\u001b[0m\u001b[1;33m)\u001b[0m\u001b[1;33m\u001b[0m\u001b[1;33m\u001b[0m\u001b[0m\n\u001b[0m",
      "\u001b[1;32m~\\AppData\\Local\\Temp/ipykernel_13128/2091922682.py\u001b[0m in \u001b[0;36mGreedyBFS\u001b[1;34m(goalNode, startNode)\u001b[0m\n\u001b[0;32m     23\u001b[0m \u001b[1;31m#     if visited node is the goal node then return the visited which will give the path\u001b[0m\u001b[1;33m\u001b[0m\u001b[1;33m\u001b[0m\u001b[0m\n\u001b[0;32m     24\u001b[0m         \u001b[1;32mif\u001b[0m \u001b[0mcurrNode\u001b[0m\u001b[1;33m.\u001b[0m\u001b[0mnode\u001b[0m \u001b[1;33m==\u001b[0m \u001b[0mgoalNode\u001b[0m\u001b[1;33m:\u001b[0m\u001b[1;33m\u001b[0m\u001b[1;33m\u001b[0m\u001b[0m\n\u001b[1;32m---> 25\u001b[1;33m             \u001b[1;32mreturn\u001b[0m \u001b[0mcurrNode\u001b[0m\u001b[1;33m.\u001b[0m\u001b[0mprintPath\u001b[0m\u001b[1;33m(\u001b[0m\u001b[1;33m)\u001b[0m\u001b[1;33m\u001b[0m\u001b[1;33m\u001b[0m\u001b[0m\n\u001b[0m\u001b[0;32m     26\u001b[0m \u001b[1;33m\u001b[0m\u001b[0m\n\u001b[0;32m     27\u001b[0m \u001b[1;31m#         if not goalnode then add the node to visited path\u001b[0m\u001b[1;33m\u001b[0m\u001b[1;33m\u001b[0m\u001b[0m\n",
      "\u001b[1;32m~\\AppData\\Local\\Temp/ipykernel_13128/3172979806.py\u001b[0m in \u001b[0;36mprintPath\u001b[1;34m(self)\u001b[0m\n\u001b[0;32m      9\u001b[0m         \u001b[1;32mwhile\u001b[0m\u001b[1;33m(\u001b[0m\u001b[0mself\u001b[0m\u001b[1;33m.\u001b[0m\u001b[0mparent\u001b[0m \u001b[1;32mor\u001b[0m \u001b[0mself\u001b[0m\u001b[1;33m.\u001b[0m\u001b[0mparent\u001b[0m \u001b[1;33m!=\u001b[0m \u001b[1;36m0\u001b[0m\u001b[1;33m)\u001b[0m\u001b[1;33m:\u001b[0m\u001b[1;33m\u001b[0m\u001b[1;33m\u001b[0m\u001b[0m\n\u001b[0;32m     10\u001b[0m             \u001b[0mpath\u001b[0m\u001b[1;33m.\u001b[0m\u001b[0mappend\u001b[0m\u001b[1;33m(\u001b[0m\u001b[0mself\u001b[0m\u001b[1;33m.\u001b[0m\u001b[0mnode\u001b[0m\u001b[1;33m)\u001b[0m\u001b[1;33m\u001b[0m\u001b[1;33m\u001b[0m\u001b[0m\n\u001b[1;32m---> 11\u001b[1;33m             \u001b[0mself\u001b[0m\u001b[1;33m.\u001b[0m\u001b[0mnode\u001b[0m \u001b[1;33m=\u001b[0m \u001b[0mself\u001b[0m\u001b[1;33m.\u001b[0m\u001b[0mparent\u001b[0m\u001b[1;33m\u001b[0m\u001b[1;33m\u001b[0m\u001b[0m\n\u001b[0m\u001b[0;32m     12\u001b[0m         \u001b[0mpath\u001b[0m \u001b[1;33m=\u001b[0m \u001b[0mpath\u001b[0m\u001b[1;33m[\u001b[0m\u001b[1;33m:\u001b[0m\u001b[1;33m-\u001b[0m\u001b[1;36m1\u001b[0m\u001b[1;33m]\u001b[0m\u001b[1;33m\u001b[0m\u001b[1;33m\u001b[0m\u001b[0m\n\u001b[0;32m     13\u001b[0m         \u001b[0mprint\u001b[0m\u001b[1;33m(\u001b[0m\u001b[0mpath\u001b[0m\u001b[1;33m)\u001b[0m\u001b[1;33m\u001b[0m\u001b[1;33m\u001b[0m\u001b[0m\n",
      "\u001b[1;31mKeyboardInterrupt\u001b[0m: "
     ]
    }
   ],
   "source": [
    "print(graph)\n",
    "print(GreedyBFS(7,4))"
   ]
  }
 ],
 "metadata": {
  "kernelspec": {
   "display_name": "Python 3 (ipykernel)",
   "language": "python",
   "name": "python3"
  },
  "language_info": {
   "codemirror_mode": {
    "name": "ipython",
    "version": 3
   },
   "file_extension": ".py",
   "mimetype": "text/x-python",
   "name": "python",
   "nbconvert_exporter": "python",
   "pygments_lexer": "ipython3",
   "version": "3.9.7"
  }
 },
 "nbformat": 4,
 "nbformat_minor": 5
}
