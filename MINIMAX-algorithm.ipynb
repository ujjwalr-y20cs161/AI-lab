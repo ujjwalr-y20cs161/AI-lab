{
 "cells": [
  {
   "cell_type": "markdown",
   "id": "a888983b",
   "metadata": {},
   "source": [
    "<h1>MINIMAX algorithm</h1>"
   ]
  },
  {
   "cell_type": "code",
   "execution_count": 8,
   "id": "acdfdd0d",
   "metadata": {},
   "outputs": [
    {
     "name": "stdout",
     "output_type": "stream",
     "text": [
      "Minimax Algorithm\n"
     ]
    }
   ],
   "source": [
    "print(\"Minimax Algorithm\")"
   ]
  },
  {
   "cell_type": "code",
   "execution_count": 2,
   "id": "e2a436a3",
   "metadata": {},
   "outputs": [],
   "source": [
    "# this algorithm takes the binary tree which is represented in a form of an array:\n",
    "\n",
    "\n",
    "def miniMax(treeDepth,playerTurn,playerDepth,nodeIndex,boardScores,gap):\n",
    "\n",
    "    \n",
    "\n",
    "#     if player reached the terminal node\n",
    "    if playerDepth == treeDepth:\n",
    "        return boardScores[nodeIndex]\n",
    "    \n",
    "#     if it's a player turn\n",
    "    if playerTurn :\n",
    "        \n",
    "        print(gap,\"value : \",boardScores[nodeIndex])\n",
    "        print(\"max{\")\n",
    "#         choose the maximum outcome of the playerchoice\n",
    "#                                     player = true ,depth+1, children of the current node\n",
    "        a = miniMax(treeDepth,False,playerDepth+1,2*nodeIndex,boardScores,gap+\" \")\n",
    "        b = miniMax(treeDepth,False,playerDepth+1,2*nodeIndex+1,boardScores,gap+\" \")\n",
    "#         print(a,b)\n",
    "        return max(a,b)\n",
    "    else: \n",
    "        print(gap,\"value : \",boardScores[nodeIndex])\n",
    "#         else if it,s the opponent, consider the minimum outcome of the opponent choice\n",
    "#                                     player = false ,depth+1, children of the current node\n",
    "        a = miniMax(treeDepth,True,playerDepth+1,2*nodeIndex,boardScores,gap+\" \")\n",
    "        b = miniMax(treeDepth,True,playerDepth+1,2*nodeIndex+1,boardScores,gap+\" \")\n",
    "#         print(a,b)\n",
    "        return min(a,b)\n",
    "    \n",
    "    "
   ]
  },
  {
   "cell_type": "code",
   "execution_count": 8,
   "id": "00a0ff42",
   "metadata": {},
   "outputs": [
    {
     "name": "stdout",
     "output_type": "stream",
     "text": [
      " max :  3\n",
      "  min :  3\n",
      "   max :  3\n",
      "   max :  5\n",
      "  min :  5\n",
      "   max :  6\n",
      "   max :  9\n",
      "5\n"
     ]
    }
   ],
   "source": [
    "# building a tree from an array:\n",
    "import math\n",
    "tree = [3, 5, 6, 9, 1, 2, 0, -1] \n",
    "\n",
    "treeDepth = math.log(len(tree),2)\n",
    "\n",
    "print(miniMax(treeDepth,True,0,0,tree,\"\"))\n",
    "\n"
   ]
  }
 ],
 "metadata": {
  "kernelspec": {
   "display_name": "Python 3 (ipykernel)",
   "language": "python",
   "name": "python3"
  },
  "language_info": {
   "codemirror_mode": {
    "name": "ipython",
    "version": 3
   },
   "file_extension": ".py",
   "mimetype": "text/x-python",
   "name": "python",
   "nbconvert_exporter": "python",
   "pygments_lexer": "ipython3",
   "version": "3.9.7"
  }
 },
 "nbformat": 4,
 "nbformat_minor": 5
}
