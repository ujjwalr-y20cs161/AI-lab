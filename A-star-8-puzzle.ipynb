{
 "cells": [
  {
   "cell_type": "code",
   "execution_count": 2,
   "metadata": {},
   "outputs": [],
   "source": [
    "import copy\n",
    "import numpy as np"
   ]
  },
  {
   "cell_type": "code",
   "execution_count": 78,
   "metadata": {},
   "outputs": [],
   "source": [
    "def change(node1, node2):\n",
    "    count = 0\n",
    "    for i,j  in zip(np.array(node1).flatten(),np.array(node2).flatten()):\n",
    "        if(i != j):\n",
    "            count+=1\n",
    "    return count\n",
    "\n",
    "def h(currentNode,endNode):\n",
    "    return change(currentNode,endNode)\n",
    "def g(startNode,currentNode):\n",
    "    return change(startNode,currentNode)\n",
    "\n",
    "def f(startNode,currentNode,endNode):\n",
    "    return  g(startNode,currentNode) +  h(currentNode,endNode)"
   ]
  },
  {
   "cell_type": "code",
   "execution_count": 4,
   "metadata": {},
   "outputs": [],
   "source": [
    "\n",
    "def childGen(state):\n",
    "    children = []\n",
    "    stateNode = copy.deepcopy(state)\n",
    "    t = ()\n",
    "    for i in range(len(state)):\n",
    "        for j in range(len(state[0])):\n",
    "            if state[i][j] == 0 :\n",
    "                t = (i,j)\n",
    "    \n",
    "    neigh = [(t[0]-1,t[1]),(t[0],t[1]-1),(t[0]+1,t[1]),(t[0],t[1]+1)]\n",
    "    real = []\n",
    "    \n",
    "    for i in neigh:\n",
    "        if 0<=i[0] and i[0]<=(len(state)-1) and 0<=i[1] and i[1]<=(len(state[0])-1):\n",
    "            real.append(i)\n",
    "   \n",
    "    for i in real:\n",
    "        childNode = copy.deepcopy(stateNode)\n",
    "        temp = childNode[i[0]][i[1]]\n",
    "        childNode[i[0]][i[1]] = childNode[t[0]][t[1]] \n",
    "        childNode[t[0]][t[1]] = temp\n",
    "        \n",
    "        children.append(childNode)\n",
    "        \n",
    "    return children"
   ]
  },
  {
   "cell_type": "code",
   "execution_count": 103,
   "metadata": {},
   "outputs": [],
   "source": [
    "def astar8puzzle(startNode,endNode):\n",
    "    openList = []\n",
    "    closeList = []\n",
    "    openList.append((f(startNode,startNode,endNode),startNode))\n",
    "    openList.sort()\n",
    "    while (openList): \n",
    "        current = openList.pop(0)\n",
    "        print(\">>>Parent : \",current)\n",
    "        if current not in closeList : \n",
    "            closeList.append(current)\n",
    "        \n",
    "        if current[1] == endNode :\n",
    "            print(\"Found it\")\n",
    "            return current\n",
    "        \n",
    "        temp = []\n",
    "        for child in childGen(current[1]):\n",
    "            childNode = (f(current[1],child,endNode),child)\n",
    "            if childNode not in closeList:\n",
    "                temp.append(childNode)\n",
    "        temp.sort()\n",
    "        val=\"\"\n",
    "        for i in temp:\n",
    "            \n",
    "            if(val == \"\" or val == i[0]):\n",
    "                print(\"Children that are considered : \",i)\n",
    "                val = i[0]\n",
    "                openList.append(i)\n",
    "                openList.sort()\n",
    "        print(\"OpenList : \",openList[:3],\"...\") \n",
    "    print(\"Could not find it\")"
   ]
  },
  {
   "cell_type": "code",
   "execution_count": 105,
   "metadata": {
    "scrolled": false
   },
   "outputs": [
    {
     "name": "stdout",
     "output_type": "stream",
     "text": [
      ">>>Parent :  (3, [[1, 0], [2, 3]])\n",
      "Children that are considered :  (4, [[1, 3], [2, 0]])\n",
      "OpenList :  [(4, [[1, 3], [2, 0]])] ...\n",
      ">>>Parent :  (4, [[1, 3], [2, 0]])\n",
      "Children that are considered :  (2, [[1, 3], [0, 2]])\n",
      "OpenList :  [(2, [[1, 3], [0, 2]])] ...\n",
      ">>>Parent :  (2, [[1, 3], [0, 2]])\n",
      "Found it\n"
     ]
    },
    {
     "data": {
      "text/plain": [
       "(2, [[1, 3], [0, 2]])"
      ]
     },
     "execution_count": 105,
     "metadata": {},
     "output_type": "execute_result"
    }
   ],
   "source": [
    "board = [[1,0],[2,3]]\n",
    "# [[1,2,3],[0,4,6],[7,8,5]]\n",
    "# \n",
    "\n",
    "endNode = [[1,3],[0,2]]\n",
    "# [[1, 2, 3], [8, 0, 4], [7, 6, 5]]\n",
    "# [[1,2,3],[4,5,6],[7,8,0]]\n",
    "\n",
    "astar8puzzle(board,endNode)\n",
    "\n"
   ]
  }
 ],
 "metadata": {
  "kernelspec": {
   "display_name": "Python 3 (ipykernel)",
   "language": "python",
   "name": "python3"
  },
  "language_info": {
   "codemirror_mode": {
    "name": "ipython",
    "version": 3
   },
   "file_extension": ".py",
   "mimetype": "text/x-python",
   "name": "python",
   "nbconvert_exporter": "python",
   "pygments_lexer": "ipython3",
   "version": "3.9.7"
  }
 },
 "nbformat": 4,
 "nbformat_minor": 4
}
