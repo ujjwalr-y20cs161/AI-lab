{
 "cells": [
  {
   "cell_type": "code",
   "execution_count": 47,
   "metadata": {},
   "outputs": [],
   "source": [
    "def childGen(state):\n",
    "    children = []\n",
    "    stateNode = state.copy()\n",
    "    t = ()\n",
    "    for i in range(len(state)):\n",
    "        for j in range(len(state[0])):\n",
    "            if state[i][j] is None :\n",
    "                t = (i,j)\n",
    "    \n",
    "    print(t,len(state),len(state[0]))\n",
    "    neigh = [(t[0]-1,t[1]),(t[0],t[1]-1),(t[0]+1,t[1]),(t[0],t[1]+1)]\n",
    "    real = []\n",
    "    print(neigh)\n",
    "    for i in neigh:\n",
    "        try:\n",
    "            print(state[i[0]][i[1]])\n",
    "        except:\n",
    "            print(\"*\")\n",
    "    for i in neigh:\n",
    "        if 0<=i[0] and i[0]<=(len(state)-1) and 0<=i[1] and i[1]<=(len(state[0])-1):\n",
    "            real.append(i)\n",
    "        else:\n",
    "            neigh.remove(i)\n",
    "            \n",
    "    print(real)\n",
    "    \n",
    "    for i in real:\n",
    "        print(state[i[0]][i[1]])"
   ]
  },
  {
   "cell_type": "code",
   "execution_count": 1,
   "metadata": {},
   "outputs": [],
   "source": [
    "def astar8puzzle(startNode,endNode):\n",
    "    openList = []\n",
    "    closeList = []\n",
    "    openList.append(startNode)\n",
    "    \n",
    "    while openList : \n",
    "        current = openList.pop(0)\n",
    "        if current not in closeList : \n",
    "            closeList.append(startNode)\n",
    "        \n",
    "        if current == endNode :\n",
    "            return current\n",
    "        \n",
    "        for child in board[startNode]:\n",
    "            if child not in closeList:\n",
    "                openList.append(child)"
   ]
  },
  {
   "cell_type": "code",
   "execution_count": 48,
   "metadata": {},
   "outputs": [
    {
     "name": "stdout",
     "output_type": "stream",
     "text": [
      "(2, 1) 3 3\n",
      "[(1, 1), (2, 0), (3, 1), (2, 2)]\n",
      "6\n",
      "5\n",
      "*\n",
      "7\n",
      "[(1, 1), (2, 0)]\n",
      "6\n",
      "5\n"
     ]
    }
   ],
   "source": [
    "board = [[2,8,3],[1,6,4],[5,None,7]]\n",
    "childGen(board)\n",
    "\n"
   ]
  }
 ],
 "metadata": {
  "kernelspec": {
   "display_name": "Python 3",
   "language": "python",
   "name": "python3"
  },
  "language_info": {
   "codemirror_mode": {
    "name": "ipython",
    "version": 3
   },
   "file_extension": ".py",
   "mimetype": "text/x-python",
   "name": "python",
   "nbconvert_exporter": "python",
   "pygments_lexer": "ipython3",
   "version": "3.8.5"
  }
 },
 "nbformat": 4,
 "nbformat_minor": 4
}
