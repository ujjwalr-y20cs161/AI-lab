{
 "cells": [
  {
   "cell_type": "code",
   "execution_count": 79,
   "metadata": {},
   "outputs": [],
   "source": [
    "import copy\n",
    "import numpy as np"
   ]
  },
  {
   "cell_type": "code",
   "execution_count": 81,
   "metadata": {},
   "outputs": [],
   "source": [
    "def change(node1, node2):\n",
    "    count = 0\n",
    "    for i,j  in zip(np.array(node1).flatten(),np.array(node2).flatten()):\n",
    "        if(i != j):\n",
    "            count+=1\n",
    "    return count\n",
    "\n",
    "def h(currentNode,endNode):\n",
    "    return change(currentNode,endNode)\n",
    "def g(startNode,currentNode):\n",
    "    return change(startNode,currentNode)\n",
    "\n",
    "def f(startNode,currentNode,endNode):\n",
    "    return g(startNode,currentNode) + h(currentNode,endNode)"
   ]
  },
  {
   "cell_type": "code",
   "execution_count": 80,
   "metadata": {},
   "outputs": [],
   "source": [
    "\n",
    "def childGen(state):\n",
    "    children = []\n",
    "    stateNode = copy.deepcopy(state)\n",
    "    t = ()\n",
    "    for i in range(len(state)):\n",
    "        for j in range(len(state[0])):\n",
    "            if state[i][j] == 0 :\n",
    "                t = (i,j)\n",
    "    \n",
    "    neigh = [(t[0]-1,t[1]),(t[0],t[1]-1),(t[0]+1,t[1]),(t[0],t[1]+1)]\n",
    "    real = []\n",
    "    \n",
    "    for i in neigh:\n",
    "        if 0<=i[0] and i[0]<=(len(state)-1) and 0<=i[1] and i[1]<=(len(state[0])-1):\n",
    "            real.append(i)\n",
    "   \n",
    "    for i in real:\n",
    "        childNode = copy.deepcopy(stateNode)\n",
    "        temp = childNode[i[0]][i[1]]\n",
    "        childNode[i[0]][i[1]] = childNode[t[0]][t[1]] \n",
    "        childNode[t[0]][t[1]] = temp\n",
    "        \n",
    "        children.append(childNode)\n",
    "        \n",
    "    return children"
   ]
  },
  {
   "cell_type": "code",
   "execution_count": 97,
   "metadata": {},
   "outputs": [],
   "source": [
    "def astar8puzzle(startNode,endNode):\n",
    "    openList = []\n",
    "    closeList = []\n",
    "    openList.append((f(startNode,startNode,endNode),startNode))\n",
    "    openList.sort(reverse=True)\n",
    "    step = 0\n",
    "    while (openList and step<15): \n",
    "        current = openList.pop(0)\n",
    "        print(\">>>\",openList,current)\n",
    "        if current not in closeList : \n",
    "            closeList.append(current)\n",
    "        \n",
    "        if current[1] == endNode :\n",
    "            print(\"Found it\")\n",
    "            return current\n",
    "        \n",
    "        temp = []\n",
    "        for child in childGen(current[1]):\n",
    "            childNode = (f(current[1],child,endNode),child)\n",
    "#             print(childNode)                    \n",
    "            temp.append(childNode)\n",
    "            \n",
    "        temp.sort()\n",
    "        childNode = temp.pop(0)\n",
    "        print(childNode)\n",
    "        if childNode not in closeList:\n",
    "                openList.append(childNode)\n",
    "                openList.sort()"
   ]
  },
  {
   "cell_type": "code",
   "execution_count": 98,
   "metadata": {},
   "outputs": [
    {
     "name": "stdout",
     "output_type": "stream",
     "text": [
      ">>> [] (7, [[2, 8, 3], [1, 6, 4], [5, 0, 7]])\n",
      "(7, [[2, 8, 3], [1, 0, 4], [5, 6, 7]])\n",
      ">>> [] (7, [[2, 8, 3], [1, 0, 4], [5, 6, 7]])\n",
      "(8, [[2, 0, 3], [1, 8, 4], [5, 6, 7]])\n",
      ">>> [] (8, [[2, 0, 3], [1, 8, 4], [5, 6, 7]])\n",
      "(7, [[0, 2, 3], [1, 8, 4], [5, 6, 7]])\n",
      ">>> [] (7, [[0, 2, 3], [1, 8, 4], [5, 6, 7]])\n",
      "(6, [[1, 2, 3], [0, 8, 4], [5, 6, 7]])\n",
      ">>> [] (6, [[1, 2, 3], [0, 8, 4], [5, 6, 7]])\n",
      "(4, [[1, 2, 3], [8, 0, 4], [5, 6, 7]])\n",
      ">>> [] (4, [[1, 2, 3], [8, 0, 4], [5, 6, 7]])\n",
      "(6, [[1, 0, 3], [8, 2, 4], [5, 6, 7]])\n",
      ">>> [] (6, [[1, 0, 3], [8, 2, 4], [5, 6, 7]])\n",
      "(4, [[1, 2, 3], [8, 0, 4], [5, 6, 7]])\n"
     ]
    }
   ],
   "source": [
    "board = [[2,8,3],[1,6,4],[5,0,7]]\n",
    "\n",
    "endNode = [[1,2,3],[8,0,4],[7,6,5]]\n",
    "\n",
    "astar8puzzle(board,endNode)\n",
    "\n"
   ]
  },
  {
   "cell_type": "code",
   "execution_count": null,
   "metadata": {},
   "outputs": [],
   "source": []
  }
 ],
 "metadata": {
  "kernelspec": {
   "display_name": "Python 3 (ipykernel)",
   "language": "python",
   "name": "python3"
  },
  "language_info": {
   "codemirror_mode": {
    "name": "ipython",
    "version": 3
   },
   "file_extension": ".py",
   "mimetype": "text/x-python",
   "name": "python",
   "nbconvert_exporter": "python",
   "pygments_lexer": "ipython3",
   "version": "3.9.7"
  }
 },
 "nbformat": 4,
 "nbformat_minor": 4
}
