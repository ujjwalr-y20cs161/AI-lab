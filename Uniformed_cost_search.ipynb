{
 "cells": [
  {
   "cell_type": "markdown",
   "id": "be140bc7",
   "metadata": {},
   "source": [
    "<h1>Uniform Cost Search</h1>"
   ]
  },
  {
   "cell_type": "code",
   "execution_count": 25,
   "id": "6f121a24",
   "metadata": {},
   "outputs": [],
   "source": [
    "def uniformCostSearch(goalNodes,startNode):\n",
    "#     assume the graph and cost into the funtion:\n",
    "    global graph,cost\n",
    "    \n",
    "#     Make an empty list to return the cummulative costs and initialize with the largest numbers\n",
    "    result = []\n",
    "#     Visited Array:\n",
    "    visited = []\n",
    "    for x in goalNodes:\n",
    "        result.append(10**9)\n",
    "#     Make a priority queue and add the first node\n",
    "    queue = []\n",
    "    \n",
    "    queue.sort()\n",
    "#     startNode is give the least priority\n",
    "#                 [cost,node]\n",
    "    queue.append([0,startNode])\n",
    "    \n",
    "#     count variable to stop the loop:\n",
    "    count = 0\n",
    "    \n",
    "    while(queue):\n",
    "        \n",
    "#         pop the least cost\n",
    "        p = queue.pop(0)\n",
    "\n",
    "#        Check whether node in goal state:\n",
    "        if(p[1] in goalNodes):\n",
    "            print(p[1],\"Reached\")\n",
    "#            Now update the cost in the result list\n",
    "            index = goalNodes.index(p[1])            \n",
    "            if(result[index] > p[0]):\n",
    "                result[index] = p[0]\n",
    "                count+=1  \n",
    "#            sort for the next iteration\n",
    "            queue.sort()\n",
    "            \n",
    "#         if the number of goalstates are reached return from the funtion\n",
    "        if(count == len(goalNodes)):\n",
    "            return result\n",
    "        \n",
    "        if(p[1] not in visited):\n",
    "#             Insert the child of current node:\n",
    "            for x in graph[p[1]]:\n",
    "                print(f\"Children of {p[1]} is {x}\")\n",
    "                queue.append([p[0]+cost[(p[1],x)],x])\n",
    "        \n",
    "#         mark the current node as visited\n",
    "        visited.append(p[1]) \n",
    "    \n",
    "    return result"
   ]
  },
  {
   "cell_type": "code",
   "execution_count": 12,
   "id": "36ca2cef",
   "metadata": {},
   "outputs": [],
   "source": [
    "def addEdge(a,b):\n",
    "    global graph\n",
    "    graph[a].append(b)\n",
    "\n",
    "def addCost(a,b,value):\n",
    "    global cost\n",
    "    cost[(a,b)] = value"
   ]
  },
  {
   "cell_type": "code",
   "execution_count": 27,
   "id": "9d790d86",
   "metadata": {},
   "outputs": [
    {
     "name": "stdout",
     "output_type": "stream",
     "text": [
      "[[1, 3], [6], [1], [1, 6, 4], [2, 5], [2, 6], [4], []] {(0, 1): 2, (0, 3): 5, (1, 6): 1, (3, 1): 5, (3, 6): 6, (3, 4): 2, (2, 1): 4, (4, 2): 4, (4, 5): 3, (5, 2): 6, (5, 6): 3, (6, 4): 7}\n",
      "Children of 0 is 1\n",
      "Children of 0 is 3\n",
      "Children of 1 is 6\n",
      "Children of 3 is 1\n",
      "Children of 3 is 6\n",
      "Children of 3 is 4\n",
      "6 Reached\n",
      "Children of 6 is 4\n",
      "Children of 4 is 2\n",
      "Children of 4 is 5\n",
      "6 Reached\n",
      "5 Reached\n",
      "Children of 5 is 2\n",
      "Children of 5 is 6\n",
      "2 Reached\n",
      "[3, 10, 11]\n"
     ]
    }
   ],
   "source": [
    "graph,cost = [[] for i in range(8)],{}\n",
    "\n",
    "addEdge(0,1)\n",
    "addEdge(0,3)\n",
    "addEdge(3,1)\n",
    "addEdge(3,6)\n",
    "addEdge(3,4)\n",
    "addEdge(4,2)\n",
    "addEdge(4,5)\n",
    "addEdge(2,1)\n",
    "addEdge(5,2)\n",
    "addEdge(5,6)\n",
    "addEdge(1,6)\n",
    "addEdge(6,4)\n",
    "\n",
    "addCost(0,1,2)\n",
    "addCost(0,3,5)\n",
    "addCost(1,6,1)\n",
    "addCost(3,1,5)\n",
    "addCost(3,6,6)\n",
    "addCost(3,4,2)\n",
    "addCost(2,1,4)\n",
    "addCost(4,2,4)\n",
    "addCost(4,5,3)\n",
    "addCost(5,2,6)\n",
    "addCost(5,6,3)\n",
    "addCost(6,4,7)\n",
    "\n",
    "print(graph,cost)\n",
    "\n",
    "goalNodes = [6,5,2]\n",
    "\n",
    "print(uniformCostSearch(goalNodes,0))"
   ]
  }
 ],
 "metadata": {
  "kernelspec": {
   "display_name": "Python 3 (ipykernel)",
   "language": "python",
   "name": "python3"
  },
  "language_info": {
   "codemirror_mode": {
    "name": "ipython",
    "version": 3
   },
   "file_extension": ".py",
   "mimetype": "text/x-python",
   "name": "python",
   "nbconvert_exporter": "python",
   "pygments_lexer": "ipython3",
   "version": "3.9.7"
  }
 },
 "nbformat": 4,
 "nbformat_minor": 5
}
