{
 "cells": [
  {
   "cell_type": "code",
   "execution_count": 28,
   "metadata": {},
   "outputs": [],
   "source": [
    "def empty():\n",
    "    return 0\n",
    "\n",
    "\n",
    "def X_pour_Y(x,y):\n",
    "    if(y+x < y_cap):\n",
    "        y += x\n",
    "        x = 0\n",
    "    else: \n",
    "        x = x - (y_cap - y)\n",
    "        y = y_cap\n",
    "        \n",
    "    return x,y\n",
    "\n",
    "def Y_pour_X(x,y):\n",
    "    if(x+y < x_cap):\n",
    "        x+= y\n",
    "        y = 0\n",
    "    else:\n",
    "        y = y - (x_cap - x)\n",
    "        x = x_cap\n",
    "    return x,y\n",
    "\n",
    "def X_fill():\n",
    "    return x_cap\n",
    "\n",
    "def y_fill():\n",
    "    return y_cap"
   ]
  },
  {
   "cell_type": "code",
   "execution_count": 36,
   "metadata": {},
   "outputs": [
    {
     "name": "stdout",
     "output_type": "stream",
     "text": [
      "Cap of JUG x: 6\n",
      "Cap of JUG y: 3\n",
      "Target Binx\n",
      "Amount to be filled3\n",
      ">>\n",
      "X-filled 6\n",
      "X poured to Y and filled 3\n",
      "3\n"
     ]
    }
   ],
   "source": [
    "x_cap : int = int(input(\"Cap of JUG x: \"))\n",
    "y_cap : int = int(input(\"Cap of JUG y: \"))\n",
    "\n",
    "cap ={\n",
    "    \"x\":x_cap,\n",
    "    \"y\":y_cap\n",
    "}\n",
    "\n",
    "dict = {\n",
    "    \"x\":0,\n",
    "    \"y\":0\n",
    "}\n",
    "    \n",
    "targetBin = input(\"Target Bin\")\n",
    "amt : int = int(input(\"Amount to be filled\"))\n",
    "\n",
    "def main():\n",
    "\n",
    "    if targetBin not in dict:\n",
    "        print(\"$$\")\n",
    "        return \n",
    "    if amt > cap[targetBin] : \n",
    "        print(\"**\")\n",
    "        return\n",
    "    \n",
    "    while(dict[targetBin]!=amt):\n",
    "        print(\">>\")\n",
    "        if(dict[targetBin] == 0):\n",
    "            if(targetBin == \"x\"):\n",
    "                dict[\"x\"] = X_fill()\n",
    "                print(\"X-filled\",dict['x'])\n",
    "            else: \n",
    "                dict[\"y\"] = Y_fill()\n",
    "                print(\"Y-filled\",dict['y'])\n",
    "                \n",
    "        \n",
    "        if(dict[targetBin]>amt):\n",
    "            if(targetBin == \"x\"):\n",
    "                if(dict[\"x\"]-cap[\"y\"]+dict[\"y\"] == amt):\n",
    "                    dict[\"x\"],dict[\"y\"] = X_pour_Y(dict[\"x\"],dict[\"y\"])\n",
    "                    print(\"X poured to Y and filled\",dict[\"x\"])\n",
    "                    break\n",
    "                elif(dict[\"x\"]-cap['y']-dict[\"y\"]>amt):\n",
    "                    dict[\"y\"] = empty()\n",
    "                    print(\"Y emptied\")\n",
    "                else:\n",
    "                    print(\"Before\",dict[\"x\"],dict[\"y\"])\n",
    "                    dict[\"x\"],dict[\"y\"] = X_pour_Y(dict[\"x\"],dict[\"y\"])\n",
    "                    print(\"X poured to Y\",dict[\"x\"],dict[\"y\"])\n",
    "\n",
    "#             else:\n",
    "#                 if(dict[\"y\"]-cap['x']+dict[\"x\"] == amt):\n",
    "#                     dict[\"x\"],dict[\"y\"] = Y_pour_X(dict[\"x\"],dict[\"y\"])\n",
    "#                     print(\"Y poured to X and filled\",dict[\"y\"])\n",
    "#                     break\n",
    "                \n",
    "#                 elif(dict[\"y\"]-cap['x']-dict[\"x\"]>amt):\n",
    "#                     dict[\"x\"] = empty()\n",
    "#                     print(\"X emptied\")\n",
    "\n",
    "        if(dict[targetBin] < amt):\n",
    "            if(targetBin == \"x\"):\n",
    "                if(dict[\"y\"] == y_cap):\n",
    "                    dict['y'] = empty()\n",
    "                    print(\"Y_emptied \",dict['x'],dict['y'])\n",
    "                    dict['x'],dict['y'] = X_pour_Y(dict['x'],dict['y'])\n",
    "                    print(\"X poured to Y\",dict[\"x\"],dict[\"y\"])\n",
    "\n",
    "        \n",
    "        print(\"<<\",dict[\"x\"],dict[\"y\"])\n",
    "    \n",
    "    \n",
    "main()\n",
    "print(dict[\"x\"])"
   ]
  },
  {
   "cell_type": "code",
   "execution_count": 20,
   "metadata": {},
   "outputs": [
    {
     "name": "stdout",
     "output_type": "stream",
     "text": [
      "2 3\n"
     ]
    }
   ],
   "source": [
    "x,y = 5,0\n",
    "\n",
    "x,y = X_pour_Y(x,y)\n",
    "\n",
    "print(x,y)"
   ]
  }
 ],
 "metadata": {
  "kernelspec": {
   "display_name": "Python 3",
   "language": "python",
   "name": "python3"
  },
  "language_info": {
   "codemirror_mode": {
    "name": "ipython",
    "version": 3
   },
   "file_extension": ".py",
   "mimetype": "text/x-python",
   "name": "python",
   "nbconvert_exporter": "python",
   "pygments_lexer": "ipython3",
   "version": "3.8.5"
  }
 },
 "nbformat": 4,
 "nbformat_minor": 4
}
