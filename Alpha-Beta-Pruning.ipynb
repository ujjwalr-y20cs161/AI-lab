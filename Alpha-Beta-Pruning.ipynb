{
 "cells": [
  {
   "cell_type": "markdown",
   "id": "fc525070",
   "metadata": {},
   "source": [
    "<h1>Alpha Beta Pruning</h1>"
   ]
  },
  {
   "cell_type": "code",
   "execution_count": 4,
   "id": "e2c13bc9",
   "metadata": {},
   "outputs": [
    {
     "name": "stdout",
     "output_type": "stream",
     "text": [
      "Alpha Beta Pruning\n",
      "inf -inf\n"
     ]
    }
   ],
   "source": [
    "print(\"Alpha Beta Pruning\")\n",
    "# constants\n",
    "\n",
    "MAX = float('inf')\n",
    "MIN = float('-inf')\n",
    "\n",
    "print(MAX,MIN)"
   ]
  },
  {
   "cell_type": "code",
   "execution_count": 9,
   "id": "3b8c28aa",
   "metadata": {},
   "outputs": [],
   "source": [
    "def abMiniMax(treeDepth,alp,bet,playerDepth,playerTurn,nodeIndex,boardScores):\n",
    "    \n",
    "    if playerDepth == treeDepth : \n",
    "        return boardScores[nodeIndex]\n",
    "    \n",
    "    if playerTurn :\n",
    "        best = MIN\n",
    "        for i in range(0, 2):\n",
    "            val = abMiniMax(treeDepth,alp,bet,playerDepth+1,False,nodeIndex*2+i,boardScores)\n",
    "            best = max(best, val)\n",
    "            alp = max(alp, best)\n",
    " \n",
    "            # Alpha Beta Pruning\n",
    "            if bet <= alp:\n",
    "                print(\"Pruned in : \",nodeIndex*2+i)\n",
    "                break\n",
    "          \n",
    "        return best\n",
    "    else :\n",
    "        best = MAX\n",
    "\n",
    "        for i in range(0, 2):\n",
    "          \n",
    "            val = abMiniMax(treeDepth,alp,bet,playerDepth+1,True,nodeIndex*2+i,boardScores)\n",
    "            best = min(best, val)\n",
    "            bet = min(bet, best)\n",
    " \n",
    "            # Alpha Beta Pruning\n",
    "            if bet <= alp:\n",
    "                print(\"Pruned in : \",nodeIndex*2+i)\n",
    "                break\n",
    "          \n",
    "        return best"
   ]
  },
  {
   "cell_type": "code",
   "execution_count": 12,
   "id": "c19140cf",
   "metadata": {},
   "outputs": [
    {
     "name": "stdout",
     "output_type": "stream",
     "text": [
      "Pruned in :  3\n",
      "Pruned in :  6\n",
      "12\n"
     ]
    }
   ],
   "source": [
    "import math\n",
    "# tree = [3, 5, 6, 9, 1, 2, 0, -1]\n",
    "tree = [3, 5, 2, 9, 12, 5, 23, 23]\n",
    "treeDepth = math.log(len(tree),2)\n",
    "print(abMiniMax(treeDepth,MIN,MAX,0,True,0,tree))"
   ]
  }
 ],
 "metadata": {
  "kernelspec": {
   "display_name": "Python 3 (ipykernel)",
   "language": "python",
   "name": "python3"
  },
  "language_info": {
   "codemirror_mode": {
    "name": "ipython",
    "version": 3
   },
   "file_extension": ".py",
   "mimetype": "text/x-python",
   "name": "python",
   "nbconvert_exporter": "python",
   "pygments_lexer": "ipython3",
   "version": "3.9.7"
  }
 },
 "nbformat": 4,
 "nbformat_minor": 5
}
